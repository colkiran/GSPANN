{
 "cells": [
  {
   "cell_type": "code",
   "execution_count": 3,
   "id": "26148bb7-1a86-44e8-9829-a67699e385c3",
   "metadata": {},
   "outputs": [
    {
     "name": "stdout",
     "output_type": "stream",
     "text": [
      "Requirement already satisfied: flask in c:\\users\\kiran\\anaconda3\\lib\\site-packages (3.0.3)\n",
      "Requirement already satisfied: Werkzeug>=3.0.0 in c:\\users\\kiran\\anaconda3\\lib\\site-packages (from flask) (3.0.3)\n",
      "Requirement already satisfied: Jinja2>=3.1.2 in c:\\users\\kiran\\anaconda3\\lib\\site-packages (from flask) (3.1.4)\n",
      "Requirement already satisfied: itsdangerous>=2.1.2 in c:\\users\\kiran\\anaconda3\\lib\\site-packages (from flask) (2.2.0)\n",
      "Requirement already satisfied: click>=8.1.3 in c:\\users\\kiran\\anaconda3\\lib\\site-packages (from flask) (8.1.7)\n",
      "Requirement already satisfied: blinker>=1.6.2 in c:\\users\\kiran\\anaconda3\\lib\\site-packages (from flask) (1.6.2)\n",
      "Requirement already satisfied: colorama in c:\\users\\kiran\\anaconda3\\lib\\site-packages (from click>=8.1.3->flask) (0.4.6)\n",
      "Requirement already satisfied: MarkupSafe>=2.0 in c:\\users\\kiran\\anaconda3\\lib\\site-packages (from Jinja2>=3.1.2->flask) (2.1.3)\n",
      "Collecting flask_restful\n",
      "  Using cached Flask_RESTful-0.3.10-py2.py3-none-any.whl.metadata (1.0 kB)\n",
      "Collecting aniso8601>=0.82 (from flask_restful)\n",
      "  Downloading aniso8601-10.0.0-py2.py3-none-any.whl.metadata (23 kB)\n",
      "Requirement already satisfied: Flask>=0.8 in c:\\users\\kiran\\anaconda3\\lib\\site-packages (from flask_restful) (3.0.3)\n",
      "Requirement already satisfied: six>=1.3.0 in c:\\users\\kiran\\anaconda3\\lib\\site-packages (from flask_restful) (1.16.0)\n",
      "Requirement already satisfied: pytz in c:\\users\\kiran\\anaconda3\\lib\\site-packages (from flask_restful) (2024.1)\n",
      "Requirement already satisfied: Werkzeug>=3.0.0 in c:\\users\\kiran\\anaconda3\\lib\\site-packages (from Flask>=0.8->flask_restful) (3.0.3)\n",
      "Requirement already satisfied: Jinja2>=3.1.2 in c:\\users\\kiran\\anaconda3\\lib\\site-packages (from Flask>=0.8->flask_restful) (3.1.4)\n",
      "Requirement already satisfied: itsdangerous>=2.1.2 in c:\\users\\kiran\\anaconda3\\lib\\site-packages (from Flask>=0.8->flask_restful) (2.2.0)\n",
      "Requirement already satisfied: click>=8.1.3 in c:\\users\\kiran\\anaconda3\\lib\\site-packages (from Flask>=0.8->flask_restful) (8.1.7)\n",
      "Requirement already satisfied: blinker>=1.6.2 in c:\\users\\kiran\\anaconda3\\lib\\site-packages (from Flask>=0.8->flask_restful) (1.6.2)\n",
      "Requirement already satisfied: colorama in c:\\users\\kiran\\anaconda3\\lib\\site-packages (from click>=8.1.3->Flask>=0.8->flask_restful) (0.4.6)\n",
      "Requirement already satisfied: MarkupSafe>=2.0 in c:\\users\\kiran\\anaconda3\\lib\\site-packages (from Jinja2>=3.1.2->Flask>=0.8->flask_restful) (2.1.3)\n",
      "Using cached Flask_RESTful-0.3.10-py2.py3-none-any.whl (26 kB)\n",
      "Downloading aniso8601-10.0.0-py2.py3-none-any.whl (52 kB)\n",
      "Installing collected packages: aniso8601, flask_restful\n",
      "Successfully installed aniso8601-10.0.0 flask_restful-0.3.10\n",
      "Requirement already satisfied: requests in c:\\users\\kiran\\anaconda3\\lib\\site-packages (2.32.3)\n",
      "Requirement already satisfied: charset-normalizer<4,>=2 in c:\\users\\kiran\\anaconda3\\lib\\site-packages (from requests) (3.3.2)\n",
      "Requirement already satisfied: idna<4,>=2.5 in c:\\users\\kiran\\anaconda3\\lib\\site-packages (from requests) (3.7)\n",
      "Requirement already satisfied: urllib3<3,>=1.21.1 in c:\\users\\kiran\\anaconda3\\lib\\site-packages (from requests) (2.2.3)\n",
      "Requirement already satisfied: certifi>=2017.4.17 in c:\\users\\kiran\\anaconda3\\lib\\site-packages (from requests) (2024.8.30)\n"
     ]
    }
   ],
   "source": [
    "!pip install flask\n",
    "!pip install flask_restful\n",
    "!pip install requests"
   ]
  },
  {
   "cell_type": "code",
   "execution_count": 1,
   "id": "95e36bf0-73c8-44b6-a5a4-08e6d6e16f18",
   "metadata": {},
   "outputs": [
    {
     "name": "stdout",
     "output_type": "stream",
     "text": [
      "Flask API running in the background.\n",
      " * Serving Flask app '__main__'\n",
      " * Debug mode: off\n"
     ]
    },
    {
     "name": "stderr",
     "output_type": "stream",
     "text": [
      "WARNING: This is a development server. Do not use it in a production deployment. Use a production WSGI server instead.\n",
      " * Running on http://127.0.0.1:5000\n",
      "Press CTRL+C to quit\n",
      "127.0.0.1 - - [20/Feb/2025 15:27:07] \"GET / HTTP/1.1\" 200 -\n"
     ]
    }
   ],
   "source": [
    "\n",
    "from flask import Flask\n",
    "from threading import Thread\n",
    "\n",
    "app = Flask(__name__)\n",
    "\n",
    "@app.route('/')\n",
    "def hello_world():\n",
    "    return 'Hello, World!'\n",
    "\n",
    "def run_app():\n",
    "    app.run(debug=False, use_reloader=False)\n",
    "\n",
    "if __name__ == '__main__':\n",
    "    thread = Thread(target=run_app)\n",
    "    thread.daemon = True\n",
    "    thread.start()\n",
    "    print(\"Flask API running in the background.\")"
   ]
  },
  {
   "cell_type": "code",
   "execution_count": null,
   "id": "82079179-d144-4d73-8e9c-692ea175faa3",
   "metadata": {},
   "outputs": [],
   "source": []
  }
 ],
 "metadata": {
  "kernelspec": {
   "display_name": "Python 3 (ipykernel)",
   "language": "python",
   "name": "python3"
  },
  "language_info": {
   "codemirror_mode": {
    "name": "ipython",
    "version": 3
   },
   "file_extension": ".py",
   "mimetype": "text/x-python",
   "name": "python",
   "nbconvert_exporter": "python",
   "pygments_lexer": "ipython3",
   "version": "3.12.3"
  }
 },
 "nbformat": 4,
 "nbformat_minor": 5
}
